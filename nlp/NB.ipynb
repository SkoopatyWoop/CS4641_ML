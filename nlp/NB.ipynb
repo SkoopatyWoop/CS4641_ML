{
 "cells": [
  {
   "cell_type": "markdown",
   "metadata": {},
   "source": [
    "## Imports"
   ]
  },
  {
   "cell_type": "code",
   "execution_count": 10,
   "metadata": {},
   "outputs": [],
   "source": [
    "from azure.cosmos.exceptions import CosmosResourceExistsError\n",
    "import azure.cosmos.cosmos_client as cosmos_client\n",
    "from azure.cosmos.partition_key import PartitionKey\n",
    "\n",
    "from dotenv import dotenv_values\n",
    "from BagOfWords import BOW\n",
    "from nb import NaiveBayes\n",
    "from sklearn.naive_bayes import ComplementNB\n",
    "from sklearn.metrics import mean_squared_error\n",
    "import numpy as np\n"
   ]
  },
  {
   "cell_type": "markdown",
   "metadata": {},
   "source": [
    " ## Data Initialization & Naive Bayes\n",
    "Here, we build our dataset using Bag of Words to initialize our 'X' and 'Y' arrays. Then, we analyze it using our Naive Bayes net."
   ]
  },
  {
   "cell_type": "code",
   "execution_count": 32,
   "metadata": {},
   "outputs": [
    {
     "name": "stdout",
     "output_type": "stream",
     "text": [
      "Database with id 'ethiclassifier' initialized\n",
      "Container with id 'data' initialized\n",
      "error percent: 0.3522842639593909\n",
      "mse: 0.3522842639593909\n"
     ]
    }
   ],
   "source": [
    "config = dotenv_values('.env')\n",
    "client = cosmos_client.CosmosClient(\n",
    "    config['AZURE_SQL_HOST'],\n",
    "    {\n",
    "        'masterKey': config['AZURE_SQL_MASTER_KEY']\n",
    "    },\n",
    "    user_agent=\"CosmosDBPythonQuickstart\",\n",
    "    user_agent_overwrite=True\n",
    ")\n",
    "db = client.create_database_if_not_exists(id=config['AZURE_SQL_DATABASE_ID'])\n",
    "print('Database with id \\'{0}\\' initialized'.format(config['AZURE_SQL_DATABASE_ID']))\n",
    "container = db.create_container_if_not_exists(\n",
    "    id=config['AZURE_SQL_CONTAINER_ID'],\n",
    "    partition_key=PartitionKey(path='/ethical_tag'),\n",
    "    offer_throughput=1000\n",
    ")\n",
    "nb = NaiveBayes()\n",
    "print('Container with id \\'{0}\\' initialized'.format(config['AZURE_SQL_CONTAINER_ID']))\n",
    "\n",
    "items = container.read_all_items()\n",
    "items = list(items)\n",
    "\n",
    "ethicals_full = [item for item in items if item['ethical_tag']]\n",
    "ethicals = ethicals_full[:2472]\n",
    "\n",
    "unethicals = [item for item in items if not item['ethical_tag']]\n",
    "\n",
    "# Build the dataset with the data entries we get from the 'items' list.\n",
    "dataset = ethicals_full + unethicals\n",
    "# The size of ethicals_full can be modified for more or less data.\n",
    "# For example, ethicals = ethicals_full[:2472]\n",
    "\n",
    "np.random.seed(69420)\n",
    "np.random.shuffle(dataset)\n",
    "\n",
    "train = dataset[:int((0.8)*len(dataset))]\n",
    "test = dataset[int((0.8)*len(dataset)):]\n",
    "\n",
    "bow_train = BOW(train)\n",
    "trainX = bow_train.X\n",
    "trainY = bow_train.y\n",
    "\n",
    "bow_test = BOW(test)\n",
    "testX = bow_test.X\n",
    "testY = bow_test.y\n",
    "\n",
    "cnb = ComplementNB()\n",
    "cnb.fit(trainX, trainY)\n",
    "\n",
    "pred = cnb.predict(testX)\n",
    "diffs = testY ^ pred\n",
    "error_pct = sum(diffs) / len(pred)\n",
    "print(\"error percent: \" + str(error_pct))\n",
    "mse = mean_squared_error(1 * testY, 1 * pred)\n",
    "print(\"mse: \" + str(mse))\n",
    "\n",
    "# print(np.stack([testY, pred]))"
   ]
  },
  {
   "cell_type": "code",
   "execution_count": null,
   "metadata": {},
   "outputs": [],
   "source": [
    "data = np.array([{'ethical_tag' : True, 'text' : \"Help others when you can!\"}])\n",
    "x = BOW(data)\n",
    "predic = cnb.predict(x.X)\n",
    "print(predic)"
   ]
  },
  {
   "cell_type": "code",
   "execution_count": null,
   "metadata": {},
   "outputs": [],
   "source": []
  },
  {
   "cell_type": "code",
   "execution_count": null,
   "metadata": {},
   "outputs": [],
   "source": []
  }
 ],
 "metadata": {
  "interpreter": {
   "hash": "937fb0e1e5b009dfc6768b5f878866cb2bb20d525391c20752f70e57d1cef599"
  },
  "kernelspec": {
   "display_name": "Python 3.7.7 ('venv': venv)",
   "language": "python",
   "name": "python3"
  },
  "language_info": {
   "codemirror_mode": {
    "name": "ipython",
    "version": 3
   },
   "file_extension": ".py",
   "mimetype": "text/x-python",
   "name": "python",
   "nbconvert_exporter": "python",
   "pygments_lexer": "ipython3",
   "version": "3.9.7"
  },
  "orig_nbformat": 4
 },
 "nbformat": 4,
 "nbformat_minor": 2
}
