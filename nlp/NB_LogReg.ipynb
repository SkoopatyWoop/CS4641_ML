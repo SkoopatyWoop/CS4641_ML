{
 "cells": [
  {
   "cell_type": "markdown",
   "metadata": {},
   "source": [
    "## Imports"
   ]
  },
  {
   "cell_type": "code",
   "execution_count": 1,
   "metadata": {},
   "outputs": [
    {
     "name": "stderr",
     "output_type": "stream",
     "text": [
      "[nltk_data] Downloading package stopwords to\n",
      "[nltk_data]     /Users/andyhuynh/nltk_data...\n",
      "[nltk_data]   Package stopwords is already up-to-date!\n"
     ]
    }
   ],
   "source": [
    "from azure.cosmos.exceptions import CosmosResourceExistsError\n",
    "import azure.cosmos.cosmos_client as cosmos_client\n",
    "from azure.cosmos.partition_key import PartitionKey\n",
    "\n",
    "from dotenv import dotenv_values\n",
    "from BagOfWords import BOW\n",
    "from nb import NaiveBayes\n",
    "\n",
    "from sklearn.naive_bayes import ComplementNB, MultinomialNB\n",
    "from sklearn.linear_model import LogisticRegression\n",
    "from sklearn.metrics import mean_squared_error\n",
    "from sklearn.model_selection import cross_val_score, train_test_split, GridSearchCV \n",
    "from sklearn.feature_extraction.text import TfidfVectorizer\n",
    "import numpy as np\n",
    "from sklearn.pipeline import Pipeline\n",
    "from sklearn.neural_network import MLPClassifier\n"
   ]
  },
  {
   "cell_type": "markdown",
   "metadata": {},
   "source": [
    " ## Data Initialization\n",
    "Here, we build our dataset using Bag of Words to initialize our 'X' and 'Y' arrays."
   ]
  },
  {
   "cell_type": "code",
   "execution_count": 5,
   "metadata": {},
   "outputs": [
    {
     "name": "stdout",
     "output_type": "stream",
     "text": [
      "Database with id 'ethiclassifier' initialized\n",
      "Container with id 'data' initialized\n"
     ]
    }
   ],
   "source": [
    "# config = dotenv_values('.env')\n",
    "# client = cosmos_client.CosmosClient(\n",
    "#     config['AZURE_SQL_HOST'],\n",
    "#     {\n",
    "#         'masterKey': config['AZURE_SQL_MASTER_KEY']\n",
    "#     },\n",
    "#     user_agent=\"CosmosDBPythonQuickstart\",\n",
    "#     user_agent_overwrite=True\n",
    "# )\n",
    "# db = client.create_database_if_not_exists(id=config['AZURE_SQL_DATABASE_ID'])\n",
    "# print('Database with id \\'{0}\\' initialized'.format(config['AZURE_SQL_DATABASE_ID']))\n",
    "# container = db.create_container_if_not_exists(\n",
    "#     id=config['AZURE_SQL_CONTAINER_ID'],\n",
    "#     partition_key=PartitionKey(path='/ethical_tag'),\n",
    "#     offer_throughput=1000\n",
    "# )\n",
    "# nb = NaiveBayes()\n",
    "# print('Container with id \\'{0}\\' initialized'.format(config['AZURE_SQL_CONTAINER_ID']))\n",
    "\n",
    "# items = container.read_all_items()"
   ]
  },
  {
   "cell_type": "code",
   "execution_count": 2,
   "metadata": {},
   "outputs": [
    {
     "name": "stdout",
     "output_type": "stream",
     "text": [
      "Database with id 'ethiclassifier' initialized\n",
      "Container with id 'data' initialized\n"
     ]
    }
   ],
   "source": [
    "config = dotenv_values('.env')\n",
    "client = cosmos_client.CosmosClient(\n",
    "    config['AZURE_SQL_HOST'],\n",
    "    {\n",
    "        'masterKey': config['AZURE_SQL_MASTER_KEY']\n",
    "    },\n",
    "    user_agent=\"CosmosDBPythonQuickstart\",\n",
    "    user_agent_overwrite=True\n",
    ")\n",
    "db = client.create_database_if_not_exists(id=config['AZURE_SQL_DATABASE_ID'])\n",
    "print('Database with id \\'{0}\\' initialized'.format(config['AZURE_SQL_DATABASE_ID']))\n",
    "container = db.create_container_if_not_exists(\n",
    "    id=config['AZURE_SQL_CONTAINER_ID'],\n",
    "    partition_key=PartitionKey(path='/ethical_tag'),\n",
    "    offer_throughput=1000\n",
    ")\n",
    "nb = NaiveBayes()\n",
    "print('Container with id \\'{0}\\' initialized'.format(config['AZURE_SQL_CONTAINER_ID']))\n",
    "\n",
    "items = container.read_all_items()\n",
    "items = list(items)"
   ]
  },
  {
   "cell_type": "markdown",
   "metadata": {},
   "source": [
    "This cell is where we build the dataset we'll be using for our models. Since we have so much more ethical data than unethical data, we gave ourselves the ability to limit the amount of ethical data we use in our dataset. ethicals_full will have around 27,000 entries, while unethicals (unlimited) will have around 2,400.\n",
    "We also use np.random.shuffle() to make sure the our models don't just learn patterns in the order of the dataset."
   ]
  },
  {
   "cell_type": "code",
   "execution_count": 4,
   "metadata": {},
   "outputs": [
    {
     "name": "stdout",
     "output_type": "stream",
     "text": [
      "Total dataset has 4944 entries.\n"
     ]
    }
   ],
   "source": [
    "ethicals_full = [item for item in items if item['ethical_tag']]\n",
    "ethicals = ethicals_full[:2472]\n",
    "\n",
    "unethicals = [item for item in items if not item['ethical_tag']]\n",
    "\n",
    "# Build the dataset with the data entries we get from the 'items' list.\n",
    "dataset = ethicals + unethicals\n",
    "np.random.seed(69420)\n",
    "np.random.shuffle(dataset)\n",
    "print(\"Total dataset has\", len(dataset), \"entries.\")"
   ]
  },
  {
   "cell_type": "markdown",
   "metadata": {},
   "source": [
    "## Complement Naive Bayes & Logistic Regression\n",
    "This is where we build our machine learning models. We first pass our dataset through a TFIDF vectorizer, which functions similarly to Bag of Words: it takes text input and \"vectorizes\" it, converting words to numerical data that we can pass in to our models.\n",
    "\n",
    "We split the data into training sets and testing sets; our models train on 80% of the total data, and then we use the remaining 20% as validation."
   ]
  },
  {
   "cell_type": "code",
   "execution_count": 6,
   "metadata": {},
   "outputs": [
    {
     "name": "stdout",
     "output_type": "stream",
     "text": [
      "Logistic Regression accuracy: 0.8068756319514662 \n",
      "Naive Bayes accuracy: 0.7917087967644085\n"
     ]
    }
   ],
   "source": [
    "\n",
    "X = list(map(lambda x: x[\"text\"], dataset))\n",
    "vectorizer = TfidfVectorizer(stop_words='english')\n",
    "\n",
    "logreg = LogisticRegression(penalty='l2')\n",
    "pipe = Pipeline([('vec', vectorizer), ('logreg', logreg)])\n",
    "\n",
    "cnb = ComplementNB()\n",
    "pipe2 = Pipeline([('vec', vectorizer), ('cnb', cnb)])\n",
    "\n",
    "y = list(map(lambda x: x[\"ethical_tag\"], dataset))\n",
    "\n",
    "X_train, X_test, y_train, y_test = train_test_split(X, y, test_size = 0.2, random_state=0)\n",
    "\n",
    "pipe.fit(X_train, y_train)\n",
    "acc1 = pipe.score(X_test, y_test)\n",
    "cv1 = np.mean(cross_val_score(pipe, X, y, cv=5))\n",
    "pred_logreg = pipe.predict(X_test)\n",
    "\n",
    "pipe2.fit(X_train, y_train)\n",
    "acc2 = pipe2.score(X_test, y_test)\n",
    "cv2 = np.mean(cross_val_score(pipe2, X, y, cv=5))\n",
    "pred_cnb = pipe2.predict(X_test)\n",
    "\n",
    "print(\"Logistic Regression accuracy:\", acc1, \"\\nNaive Bayes accuracy:\", acc2)"
   ]
  },
  {
   "cell_type": "code",
   "execution_count": 9,
   "metadata": {},
   "outputs": [],
   "source": [
    "grid_params = {\n",
    "  'alpha': np.linspace(0.01, 0.05, 2),\n",
    "  'hidden_layer_sizes': [(10,10,5)],\n",
    "  'learning_rate_init': np.linspace(0.1, 0.5, 2),\n",
    "  'activation': ['tanh', 'relu'],\n",
    "}\n",
    "\n",
    "mlp = MLPClassifier(max_iter=50)\n",
    "model = GridSearchCV(mlp, grid_params)\n",
    "\n",
    "pipeNN = Pipeline([('vec', vectorizer), \n",
    "                        ('nn', model)])\n",
    "\n",
    "# cv2 = np.mean(cross_val_score(pipeNN, X, y, cv=5))\n",
    "# print(cv2)"
   ]
  },
  {
   "cell_type": "code",
   "execution_count": 10,
   "metadata": {},
   "outputs": [],
   "source": [
    "train = dataset[:int((0.8)*len(dataset))]\n",
    "test = dataset[int((0.8)*len(dataset)):]\n",
    "\n",
    "bow_train = BOW(train)\n",
    "trainX = bow_train.X\n",
    "trainY = bow_train.y\n",
    "\n",
    "bow_test = BOW(test)\n",
    "testX = bow_test.X\n",
    "testY = bow_test.y\n",
    "# print(np.stack([testY, pred]))"
   ]
  },
  {
   "cell_type": "code",
   "execution_count": 11,
   "metadata": {},
   "outputs": [
    {
     "name": "stdout",
     "output_type": "stream",
     "text": [
      "error percent: 0.4590495449949444\n",
      "mse: 0.4590495449949444\n",
      "0.6528907046335604\n"
     ]
    }
   ],
   "source": [
    "cnb = ComplementNB()\n",
    "cnb.fit(trainX, trainY)\n",
    "\n",
    "pred = cnb.predict(testX)\n",
    "diffs = testY ^ pred\n",
    "error_pct = sum(diffs) / len(pred)\n",
    "print(\"error percent: \" + str(error_pct))\n",
    "mse = mean_squared_error(1 * testY, 1 * pred)\n",
    "print(\"mse: \" + str(mse))\n",
    "\n",
    "scores = cross_val_score(cnb, np.concatenate((trainX, testX)), np.concatenate((trainY, testY)), cv=5)\n",
    "avg_acc = np.mean(scores)\n",
    "print(avg_acc)"
   ]
  },
  {
   "cell_type": "code",
   "execution_count": 12,
   "metadata": {},
   "outputs": [
    {
     "name": "stdout",
     "output_type": "stream",
     "text": [
      "(989,) (989,)\n",
      "error percent: 0.4590495449949444\n",
      "mse: 0.4590495449949444\n",
      "0.6919323080197967\n"
     ]
    }
   ],
   "source": [
    "# we used l2 penalty as we have colinear / codependent features \n",
    "logreg = LogisticRegression(penalty='l2')\n",
    "logreg.fit(trainX, trainY)\n",
    "print(pred.shape, testY.shape)\n",
    "diffs = testY ^ pred\n",
    "error_pct = sum(diffs) / len(pred)\n",
    "print(\"error percent: \" + str(error_pct))\n",
    "mse = mean_squared_error(1 * testY, 1 * pred)\n",
    "print(\"mse: \" + str(mse))\n",
    "\n",
    "scores = cross_val_score(logreg, np.concatenate((trainX, testX)), np.concatenate((trainY, testY)), cv=5)\n",
    "avg_acc = np.mean(scores)\n",
    "print(avg_acc)"
   ]
  },
  {
   "cell_type": "code",
   "execution_count": 13,
   "metadata": {},
   "outputs": [
    {
     "name": "stdout",
     "output_type": "stream",
     "text": [
      "[False  True]\n"
     ]
    }
   ],
   "source": [
    "ulpt = \"Flying on your employer's dime? Book an expensive flight, then call the airline later to change for a cheaper fare (ie earlier/later the same day). Ask for the travel credit to be sent to your personal email. Use it later for personal travel. Your employer will not know.\"\n",
    "lpt = \"I'm 43. By your late 20's/early 30's, make sure physical fitness becomes an absolute top priority. I started a dedicated fitness regimen when I was 28 to improve my odds with a girl. Didn't work on the girl. What did work was that the routine stuck. Now pushing my mid-forties, I can't believe where I am physically compared to many others my age. Also scary is how they regard physical deterioration as an inevitability. It isn't. Get started now. It will be one of the greatest gifts you'll ever give yourself.\"\n",
    "\n",
    "# ulpt = \"donate to charities\"\n",
    "\n",
    "data = [ulpt, lpt]\n",
    "print(pipe.predict(data))"
   ]
  },
  {
   "cell_type": "markdown",
   "metadata": {},
   "source": [
    "# Graphs & Plots"
   ]
  },
  {
   "cell_type": "code",
   "execution_count": 164,
   "metadata": {},
   "outputs": [
    {
     "data": {
      "image/png": "[encoded data removed]",
      "text/plain": [
       "<Figure size 432x288 with 2 Axes>"
      ]
     },
     "metadata": {
      "needs_background": "light"
     },
     "output_type": "display_data"
    }
   ],
   "source": [
    "from plots import plot\n",
    "from PIL import Image\n",
    "import pandas as pd\n",
    "\n",
    "plotter = plot(y_test, pred_logreg)\n",
    "plotter.fpr_fnr()\n",
    "\n",
    "items = vectorizer.idf_\n",
    "idx = np.argsort(items)\n",
    "scores = list(np.array(items)[idx])\n",
    "\n",
    "N_words = 100\n",
    "\n",
    "feature_names = vectorizer.get_feature_names_out()\n",
    "topN = np.flip(np.argsort(logreg.coef_))[:, :N_words]\n",
    "\n",
    "features = feature_names[topN].reshape(N_words)\n",
    "weights = logreg.coef_[:, topN].reshape(N_words)\n",
    "topN = dict(zip(features.tolist(), weights.tolist()))"
   ]
  },
  {
   "cell_type": "code",
   "execution_count": 172,
   "metadata": {},
   "outputs": [
    {
     "data": {
      "image/png": "[encoded data removed]",
      "text/plain": [
       "<Figure size 432x288 with 1 Axes>"
      ]
     },
     "metadata": {
      "needs_background": "light"
     },
     "output_type": "display_data"
    }
   ],
   "source": [
    "reddit_mask = np.array(Image.open('../images/reddit-logo.jpg'))\n",
    "from wordcloud import WordCloud, ImageColorGenerator\n",
    "import matplotlib as plt\n",
    "\n",
    "# from https://towardsdatascience.com/how-to-create-beautiful-word-clouds-in-python-cfcf85141214\n",
    "\n",
    "# A similar function, but using the mask\n",
    "def generate_better_wordcloud(data, title, mask=None):\n",
    "    cloud = WordCloud(scale=3,\n",
    "                      max_words=100,\n",
    "                      colormap='Reds',\n",
    "                      mask=mask,\n",
    "                      width = 1600,\n",
    "                      height = 800,\n",
    "                      background_color='white',\n",
    "                      collocations=True).generate_from_frequencies(topN)\n",
    "    \n",
    "    plt.figure.Figure(figsize=(20,10), dpi=500)\n",
    "    plt.pyplot.imshow(cloud)\n",
    "    plt.pyplot.axis('off')\n",
    "    plt.pyplot.title(title)\n",
    "    plt.pyplot.show()\n",
    "    \n",
    "# Use the function with the rome_corpus and our mask to create word cloud     \n",
    "generate_better_wordcloud(data, title = 'Most weighted words by Logistic Regression (Snoo outline)', mask=reddit_mask)"
   ]
  },
  {
   "cell_type": "code",
   "execution_count": null,
   "metadata": {},
   "outputs": [],
   "source": []
  }
 ],
 "metadata": {
  "interpreter": {
   "hash": "937fb0e1e5b009dfc6768b5f878866cb2bb20d525391c20752f70e57d1cef599"
  },
  "kernelspec": {
   "display_name": "Python 3.7.7 ('venv': venv)",
   "language": "python",
   "name": "python3"
  },
  "language_info": {
   "codemirror_mode": {
    "name": "ipython",
    "version": 3
   },
   "file_extension": ".py",
   "mimetype": "text/x-python",
   "name": "python",
   "nbconvert_exporter": "python",
   "pygments_lexer": "ipython3",
   "version": "3.9.7"
  },
  "orig_nbformat": 4
 },
 "nbformat": 4,
 "nbformat_minor": 2
}
