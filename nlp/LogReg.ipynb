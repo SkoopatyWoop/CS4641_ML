{
 "cells": [
  {
   "cell_type": "code",
   "execution_count": 1,
   "metadata": {},
   "outputs": [],
   "source": [
    "from azure.cosmos.exceptions import CosmosResourceExistsError\n",
    "import azure.cosmos.cosmos_client as cosmos_client\n",
    "from azure.cosmos.partition_key import PartitionKey\n",
    "\n",
    "from dotenv import dotenv_values"
   ]
  },
  {
   "cell_type": "code",
   "execution_count": 2,
   "metadata": {},
   "outputs": [
    {
     "name": "stdout",
     "output_type": "stream",
     "text": [
      "Database with id 'ethiclassifier' initialized\n",
      "Container with id 'data' initialized\n"
     ]
    }
   ],
   "source": [
    "config = dotenv_values('.env')\n",
    "client = cosmos_client.CosmosClient(\n",
    "    config['AZURE_SQL_HOST'],\n",
    "    {\n",
    "        'masterKey': config['AZURE_SQL_MASTER_KEY']\n",
    "    },\n",
    "    user_agent=\"CosmosDBPythonQuickstart\",\n",
    "    user_agent_overwrite=True\n",
    ")\n",
    "db = client.create_database_if_not_exists(id=config['AZURE_SQL_DATABASE_ID'])\n",
    "print('Database with id \\'{0}\\' initialized'.format(config['AZURE_SQL_DATABASE_ID']))\n",
    "container = db.create_container_if_not_exists(\n",
    "    id=config['AZURE_SQL_CONTAINER_ID'],\n",
    "    partition_key=PartitionKey(path='/ethical_tag'),\n",
    "    offer_throughput=1000\n",
    ")\n",
    "print('Container with id \\'{0}\\' initialized'.format(config['AZURE_SQL_CONTAINER_ID']))"
   ]
  },
  {
   "cell_type": "code",
   "execution_count": 8,
   "metadata": {},
   "outputs": [],
   "source": [
    "items = container.read_all_items()"
   ]
  },
  {
   "cell_type": "code",
   "execution_count": null,
   "metadata": {},
   "outputs": [],
   "source": []
  },
  {
   "cell_type": "code",
   "execution_count": null,
   "metadata": {},
   "outputs": [],
   "source": []
  }
 ],
 "metadata": {
  "interpreter": {
   "hash": "937fb0e1e5b009dfc6768b5f878866cb2bb20d525391c20752f70e57d1cef599"
  },
  "kernelspec": {
   "display_name": "Python 3.7.7 ('venv': venv)",
   "language": "python",
   "name": "python3"
  },
  "language_info": {
   "codemirror_mode": {
    "name": "ipython",
    "version": 3
   },
   "file_extension": ".py",
   "mimetype": "text/x-python",
   "name": "python",
   "nbconvert_exporter": "python",
   "pygments_lexer": "ipython3",
   "version": "3.7.7"
  },
  "orig_nbformat": 4
 },
 "nbformat": 4,
 "nbformat_minor": 2
}
